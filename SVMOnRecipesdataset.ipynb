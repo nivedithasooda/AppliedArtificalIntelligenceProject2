{
 "cells": [
  {
   "cell_type": "raw",
   "metadata": {},
   "source": [
    "Classifying the recipe as cake or pastry"
   ]
  },
  {
   "cell_type": "code",
   "execution_count": 66,
   "metadata": {},
   "outputs": [],
   "source": [
    "# Packages for processing\n",
    "import pandas as ps\n",
    "import numpy as ny\n",
    "from sklearn import svm\n",
    "\n",
    "# Packages for plotting\n",
    "import matplotlib.pyplot as mplt\n",
    "import seaborn as sb; sb.set(font_scale=1.2)\n",
    "\n",
    "# Allows charts in the notebook\n",
    "%matplotlib inline"
   ]
  },
  {
   "cell_type": "code",
   "execution_count": 67,
   "metadata": {},
   "outputs": [
    {
     "data": {
      "text/html": [
       "<div>\n",
       "<style scoped>\n",
       "    .dataframe tbody tr th:only-of-type {\n",
       "        vertical-align: middle;\n",
       "    }\n",
       "\n",
       "    .dataframe tbody tr th {\n",
       "        vertical-align: top;\n",
       "    }\n",
       "\n",
       "    .dataframe thead th {\n",
       "        text-align: right;\n",
       "    }\n",
       "</style>\n",
       "<table border=\"1\" class=\"dataframe\">\n",
       "  <thead>\n",
       "    <tr style=\"text-align: right;\">\n",
       "      <th></th>\n",
       "      <th>Type</th>\n",
       "      <th>Refined Flour</th>\n",
       "      <th>Milk</th>\n",
       "      <th>Powdered Sugar</th>\n",
       "      <th>Butter</th>\n",
       "      <th>Egg</th>\n",
       "      <th>Baking Powder</th>\n",
       "      <th>Vanilla</th>\n",
       "      <th>Salt</th>\n",
       "    </tr>\n",
       "  </thead>\n",
       "  <tbody>\n",
       "    <tr>\n",
       "      <th>0</th>\n",
       "      <td>Cake</td>\n",
       "      <td>55</td>\n",
       "      <td>28</td>\n",
       "      <td>3</td>\n",
       "      <td>7</td>\n",
       "      <td>5</td>\n",
       "      <td>2</td>\n",
       "      <td>0</td>\n",
       "      <td>0</td>\n",
       "    </tr>\n",
       "    <tr>\n",
       "      <th>1</th>\n",
       "      <td>Cake</td>\n",
       "      <td>47</td>\n",
       "      <td>24</td>\n",
       "      <td>12</td>\n",
       "      <td>6</td>\n",
       "      <td>9</td>\n",
       "      <td>1</td>\n",
       "      <td>0</td>\n",
       "      <td>0</td>\n",
       "    </tr>\n",
       "    <tr>\n",
       "      <th>2</th>\n",
       "      <td>Cake</td>\n",
       "      <td>47</td>\n",
       "      <td>23</td>\n",
       "      <td>18</td>\n",
       "      <td>6</td>\n",
       "      <td>4</td>\n",
       "      <td>1</td>\n",
       "      <td>0</td>\n",
       "      <td>0</td>\n",
       "    </tr>\n",
       "    <tr>\n",
       "      <th>3</th>\n",
       "      <td>Cake</td>\n",
       "      <td>45</td>\n",
       "      <td>11</td>\n",
       "      <td>17</td>\n",
       "      <td>17</td>\n",
       "      <td>8</td>\n",
       "      <td>1</td>\n",
       "      <td>0</td>\n",
       "      <td>0</td>\n",
       "    </tr>\n",
       "    <tr>\n",
       "      <th>4</th>\n",
       "      <td>Cake</td>\n",
       "      <td>50</td>\n",
       "      <td>25</td>\n",
       "      <td>12</td>\n",
       "      <td>6</td>\n",
       "      <td>5</td>\n",
       "      <td>2</td>\n",
       "      <td>1</td>\n",
       "      <td>0</td>\n",
       "    </tr>\n",
       "    <tr>\n",
       "      <th>5</th>\n",
       "      <td>Cake</td>\n",
       "      <td>55</td>\n",
       "      <td>27</td>\n",
       "      <td>3</td>\n",
       "      <td>7</td>\n",
       "      <td>5</td>\n",
       "      <td>2</td>\n",
       "      <td>1</td>\n",
       "      <td>0</td>\n",
       "    </tr>\n",
       "    <tr>\n",
       "      <th>6</th>\n",
       "      <td>Cake</td>\n",
       "      <td>54</td>\n",
       "      <td>27</td>\n",
       "      <td>7</td>\n",
       "      <td>5</td>\n",
       "      <td>5</td>\n",
       "      <td>2</td>\n",
       "      <td>0</td>\n",
       "      <td>0</td>\n",
       "    </tr>\n",
       "    <tr>\n",
       "      <th>7</th>\n",
       "      <td>Cake</td>\n",
       "      <td>47</td>\n",
       "      <td>26</td>\n",
       "      <td>10</td>\n",
       "      <td>10</td>\n",
       "      <td>4</td>\n",
       "      <td>1</td>\n",
       "      <td>0</td>\n",
       "      <td>0</td>\n",
       "    </tr>\n",
       "    <tr>\n",
       "      <th>8</th>\n",
       "      <td>Cake</td>\n",
       "      <td>50</td>\n",
       "      <td>17</td>\n",
       "      <td>17</td>\n",
       "      <td>8</td>\n",
       "      <td>6</td>\n",
       "      <td>1</td>\n",
       "      <td>0</td>\n",
       "      <td>0</td>\n",
       "    </tr>\n",
       "    <tr>\n",
       "      <th>9</th>\n",
       "      <td>Cake</td>\n",
       "      <td>50</td>\n",
       "      <td>17</td>\n",
       "      <td>17</td>\n",
       "      <td>11</td>\n",
       "      <td>4</td>\n",
       "      <td>1</td>\n",
       "      <td>0</td>\n",
       "      <td>0</td>\n",
       "    </tr>\n",
       "    <tr>\n",
       "      <th>10</th>\n",
       "      <td>Pastry</td>\n",
       "      <td>39</td>\n",
       "      <td>0</td>\n",
       "      <td>26</td>\n",
       "      <td>19</td>\n",
       "      <td>14</td>\n",
       "      <td>1</td>\n",
       "      <td>1</td>\n",
       "      <td>0</td>\n",
       "    </tr>\n",
       "    <tr>\n",
       "      <th>11</th>\n",
       "      <td>Pastry</td>\n",
       "      <td>42</td>\n",
       "      <td>21</td>\n",
       "      <td>16</td>\n",
       "      <td>10</td>\n",
       "      <td>8</td>\n",
       "      <td>3</td>\n",
       "      <td>0</td>\n",
       "      <td>0</td>\n",
       "    </tr>\n",
       "    <tr>\n",
       "      <th>12</th>\n",
       "      <td>Pastry</td>\n",
       "      <td>34</td>\n",
       "      <td>17</td>\n",
       "      <td>20</td>\n",
       "      <td>20</td>\n",
       "      <td>5</td>\n",
       "      <td>2</td>\n",
       "      <td>1</td>\n",
       "      <td>0</td>\n",
       "    </tr>\n",
       "    <tr>\n",
       "      <th>13</th>\n",
       "      <td>Pastry</td>\n",
       "      <td>39</td>\n",
       "      <td>13</td>\n",
       "      <td>17</td>\n",
       "      <td>19</td>\n",
       "      <td>10</td>\n",
       "      <td>1</td>\n",
       "      <td>1</td>\n",
       "      <td>0</td>\n",
       "    </tr>\n",
       "    <tr>\n",
       "      <th>14</th>\n",
       "      <td>Pastry</td>\n",
       "      <td>38</td>\n",
       "      <td>15</td>\n",
       "      <td>23</td>\n",
       "      <td>15</td>\n",
       "      <td>8</td>\n",
       "      <td>0</td>\n",
       "      <td>1</td>\n",
       "      <td>0</td>\n",
       "    </tr>\n",
       "    <tr>\n",
       "      <th>15</th>\n",
       "      <td>Pastry</td>\n",
       "      <td>42</td>\n",
       "      <td>18</td>\n",
       "      <td>25</td>\n",
       "      <td>9</td>\n",
       "      <td>5</td>\n",
       "      <td>1</td>\n",
       "      <td>0</td>\n",
       "      <td>0</td>\n",
       "    </tr>\n",
       "    <tr>\n",
       "      <th>16</th>\n",
       "      <td>Pastry</td>\n",
       "      <td>36</td>\n",
       "      <td>14</td>\n",
       "      <td>21</td>\n",
       "      <td>14</td>\n",
       "      <td>11</td>\n",
       "      <td>2</td>\n",
       "      <td>1</td>\n",
       "      <td>0</td>\n",
       "    </tr>\n",
       "    <tr>\n",
       "      <th>17</th>\n",
       "      <td>Pastry</td>\n",
       "      <td>38</td>\n",
       "      <td>15</td>\n",
       "      <td>31</td>\n",
       "      <td>8</td>\n",
       "      <td>6</td>\n",
       "      <td>1</td>\n",
       "      <td>1</td>\n",
       "      <td>0</td>\n",
       "    </tr>\n",
       "    <tr>\n",
       "      <th>18</th>\n",
       "      <td>Pastry</td>\n",
       "      <td>36</td>\n",
       "      <td>16</td>\n",
       "      <td>24</td>\n",
       "      <td>12</td>\n",
       "      <td>9</td>\n",
       "      <td>1</td>\n",
       "      <td>1</td>\n",
       "      <td>0</td>\n",
       "    </tr>\n",
       "    <tr>\n",
       "      <th>19</th>\n",
       "      <td>Pastry</td>\n",
       "      <td>34</td>\n",
       "      <td>17</td>\n",
       "      <td>23</td>\n",
       "      <td>11</td>\n",
       "      <td>13</td>\n",
       "      <td>0</td>\n",
       "      <td>1</td>\n",
       "      <td>0</td>\n",
       "    </tr>\n",
       "  </tbody>\n",
       "</table>\n",
       "</div>"
      ],
      "text/plain": [
       "      Type  Refined Flour  Milk  Powdered Sugar  Butter  Egg  Baking Powder  \\\n",
       "0     Cake             55    28               3       7    5              2   \n",
       "1     Cake             47    24              12       6    9              1   \n",
       "2     Cake             47    23              18       6    4              1   \n",
       "3     Cake             45    11              17      17    8              1   \n",
       "4     Cake             50    25              12       6    5              2   \n",
       "5     Cake             55    27               3       7    5              2   \n",
       "6     Cake             54    27               7       5    5              2   \n",
       "7     Cake             47    26              10      10    4              1   \n",
       "8     Cake             50    17              17       8    6              1   \n",
       "9     Cake             50    17              17      11    4              1   \n",
       "10  Pastry             39     0              26      19   14              1   \n",
       "11  Pastry             42    21              16      10    8              3   \n",
       "12  Pastry             34    17              20      20    5              2   \n",
       "13  Pastry             39    13              17      19   10              1   \n",
       "14  Pastry             38    15              23      15    8              0   \n",
       "15  Pastry             42    18              25       9    5              1   \n",
       "16  Pastry             36    14              21      14   11              2   \n",
       "17  Pastry             38    15              31       8    6              1   \n",
       "18  Pastry             36    16              24      12    9              1   \n",
       "19  Pastry             34    17              23      11   13              0   \n",
       "\n",
       "    Vanilla  Salt  \n",
       "0         0     0  \n",
       "1         0     0  \n",
       "2         0     0  \n",
       "3         0     0  \n",
       "4         1     0  \n",
       "5         1     0  \n",
       "6         0     0  \n",
       "7         0     0  \n",
       "8         0     0  \n",
       "9         0     0  \n",
       "10        1     0  \n",
       "11        0     0  \n",
       "12        1     0  \n",
       "13        1     0  \n",
       "14        1     0  \n",
       "15        0     0  \n",
       "16        1     0  \n",
       "17        1     0  \n",
       "18        1     0  \n",
       "19        1     0  "
      ]
     },
     "execution_count": 67,
     "metadata": {},
     "output_type": "execute_result"
    }
   ],
   "source": [
    "# Read cake and pastry ingredients data from the file\n",
    "recipe = ps.read_excel('Recipes.xlsx')\n",
    "#display the data in the notebook\n",
    "recipe"
   ]
  },
  {
   "cell_type": "code",
   "execution_count": 68,
   "metadata": {},
   "outputs": [
    {
     "data": {
      "image/png": "[encoded data removed]",
      "text/plain": [
       "<Figure size 445.145x360 with 1 Axes>"
      ]
     },
     "metadata": {
      "needs_background": "light"
     },
     "output_type": "display_data"
    }
   ],
   "source": [
    "# Plot the two ingredients selected as features\n",
    "sb.lmplot('Refined Flour', 'Powdered Sugar', data=recipe, hue='Type', fit_reg=False);"
   ]
  },
  {
   "cell_type": "code",
   "execution_count": 69,
   "metadata": {},
   "outputs": [
    {
     "data": {
      "text/plain": [
       "['Refined Flour',\n",
       " 'Milk',\n",
       " 'Powdered Sugar',\n",
       " 'Butter',\n",
       " 'Egg',\n",
       " 'Baking Powder',\n",
       " 'Vanilla',\n",
       " 'Salt']"
      ]
     },
     "execution_count": 69,
     "metadata": {},
     "output_type": "execute_result"
    }
   ],
   "source": [
    "# Inputs for the model\n",
    "contents = recipe[['Refined Flour', 'Powdered Sugar']].values\n",
    "labeltype = ny.where(recipe['Type']=='Cake', 0, 1)\n",
    "\n",
    "# names of the Features\n",
    "view_features = recipe.columns.values[1:].tolist()\n",
    "view_features"
   ]
  },
  {
   "cell_type": "code",
   "execution_count": 70,
   "metadata": {},
   "outputs": [
    {
     "data": {
      "text/plain": [
       "SVC(C=1.0, cache_size=200, class_weight=None, coef0=0.0,\n",
       "  decision_function_shape='ovr', degree=3, gamma='auto', kernel='linear',\n",
       "  max_iter=-1, probability=False, random_state=None, shrinking=True,\n",
       "  tol=0.001, verbose=False)"
      ]
     },
     "execution_count": 70,
     "metadata": {},
     "output_type": "execute_result"
    }
   ],
   "source": [
    "# Fit the SVM model\n",
    "svmmodel = svm.SVC(kernel='linear')\n",
    "svmmodel.fit(contents, labeltype)"
   ]
  },
  {
   "cell_type": "code",
   "execution_count": 71,
   "metadata": {},
   "outputs": [],
   "source": [
    "# Make the separating hyperplane\n",
    "co = svmmodel.coef_[0]\n",
    "h = -co[0] / co[1]\n",
    "x1 = ny.linspace(30, 60)\n",
    "y1 = h * x1 - (svmmodel.intercept_[0]) / co[1]\n",
    "\n",
    "# Plot the lines parallel to the separating hyperplane which pass through the support vectors\n",
    "m = svmmodel.support_vectors_[0]\n",
    "yy_down = h * x1 + (m[1] - h * m[0])\n",
    "m = svmmodel.support_vectors_[-1]\n",
    "yy_up = h * x1 + (m[1] - h * m[0])"
   ]
  },
  {
   "cell_type": "code",
   "execution_count": 72,
   "metadata": {},
   "outputs": [
    {
     "data": {
      "image/png": "[encoded data removed]",
      "text/plain": [
       "<Figure size 445.145x360 with 1 Axes>"
      ]
     },
     "metadata": {
      "needs_background": "light"
     },
     "output_type": "display_data"
    }
   ],
   "source": [
    "# Plot the hyper plane\n",
    "sb.lmplot('Refined Flour', 'Powdered Sugar', data=recipe, hue='Type', fit_reg=False, scatter_kws={\"s\": 70})\n",
    "mplt.plot(x1, y1, linewidth=1, color='purple');"
   ]
  },
  {
   "cell_type": "code",
   "execution_count": 73,
   "metadata": {},
   "outputs": [
    {
     "data": {
      "image/png": "[encoded data removed]",
      "text/plain": [
       "<Figure size 445.145x360 with 1 Axes>"
      ]
     },
     "metadata": {
      "needs_background": "light"
     },
     "output_type": "display_data"
    }
   ],
   "source": [
    "# Display the margins and support vectors\n",
    "sb.lmplot('Refined Flour', 'Powdered Sugar', data=recipe, hue='Type', fit_reg=False, scatter_kws={\"s\": 70})\n",
    "mplt.plot(x1, y1, linewidth=2, color='purple')\n",
    "mplt.plot(x1, yy_down, 'k--')\n",
    "mplt.plot(x1, yy_up, 'k--')\n",
    "mplt.scatter(svmmodel.support_vectors_[:, 0], svmmodel.support_vectors_[:, 1], s=80, facecolors='none');"
   ]
  },
  {
   "cell_type": "code",
   "execution_count": 74,
   "metadata": {},
   "outputs": [],
   "source": [
    "# Define a function to predict if a recipe is a cake or a pastry\n",
    "def cake_or_pastry(refined_flour, powderedsugar):\n",
    "    if(svmmodel.predict([[refined_flour, powderedsugar]]))==0:\n",
    "        print('You\\'re looking at a cake recipe!')\n",
    "    else:\n",
    "        print('You\\'re looking at a pastry recipe!')"
   ]
  },
  {
   "cell_type": "code",
   "execution_count": 75,
   "metadata": {},
   "outputs": [
    {
     "name": "stdout",
     "output_type": "stream",
     "text": [
      "You're looking at a cake recipe!\n"
     ]
    }
   ],
   "source": [
    "# Identify the recipe if 55 parts flour and 25 parts sugar\n",
    "cake_or_pastry(55, 25)"
   ]
  },
  {
   "cell_type": "code",
   "execution_count": 76,
   "metadata": {},
   "outputs": [
    {
     "data": {
      "image/png": "[encoded data removed]",
      "text/plain": [
       "<Figure size 445.145x360 with 1 Axes>"
      ]
     },
     "metadata": {
      "needs_background": "light"
     },
     "output_type": "display_data"
    }
   ],
   "source": [
    "# Plot the above point to see where it lies\n",
    "sb.lmplot('Refined Flour', 'Powdered Sugar', data=recipe, hue='Type', fit_reg=False, scatter_kws={\"s\": 70})\n",
    "mplt.plot(x1, y1, linewidth=2, color='purple')\n",
    "mplt.plot(56, 25, 'yo', markersize='9.5');"
   ]
  },
  {
   "cell_type": "code",
   "execution_count": 77,
   "metadata": {},
   "outputs": [
    {
     "name": "stdout",
     "output_type": "stream",
     "text": [
      "You're looking at a pastry recipe!\n"
     ]
    }
   ],
   "source": [
    "# Identify the recipe if 35 parts flour and 20 parts sugar\n",
    "cake_or_pastry(35,20)"
   ]
  }
 ],
 "metadata": {
  "kernelspec": {
   "display_name": "Python 3",
   "language": "python",
   "name": "python3"
  },
  "language_info": {
   "codemirror_mode": {
    "name": "ipython",
    "version": 3
   },
   "file_extension": ".py",
   "mimetype": "text/x-python",
   "name": "python",
   "nbconvert_exporter": "python",
   "pygments_lexer": "ipython3",
   "version": "3.7.0"
  }
 },
 "nbformat": 4,
 "nbformat_minor": 2
}
